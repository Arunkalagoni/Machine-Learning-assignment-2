{
 "cells": [
  {
   "cell_type": "code",
   "execution_count": 19,
   "id": "7f60008f",
   "metadata": {},
   "outputs": [
    {
     "name": "stdout",
     "output_type": "stream",
     "text": [
      "5\n",
      " \n",
      "*  \n",
      "* *  \n",
      "* * *  \n",
      "* * * *  \n",
      "* * * * *  \n",
      "* * * *  \n",
      "* * *  \n",
      "* *  \n",
      "*  \n"
     ]
    }
   ],
   "source": [
    "n=int(input())#enter input for number of rows\n",
    "for i in range(0,n+1):\n",
    "    for j in range(0,i):\n",
    "        print(\"*\",end=\" \")\n",
    "    print(\" \")\n",
    "for i in range(n-1,0,-1):\n",
    "    for j in range(0,i):\n",
    "        print(\"*\",end=\" \")\n",
    "    print(\" \")"
   ]
  },
  {
   "cell_type": "code",
   "execution_count": 20,
   "id": "d6c710a6",
   "metadata": {},
   "outputs": [
    {
     "name": "stdout",
     "output_type": "stream",
     "text": [
      "20\n",
      "40\n",
      "60\n",
      "80\n",
      "100\n"
     ]
    }
   ],
   "source": [
    "my_list = [10, 20, 30, 40, 50, 60, 70, 80, 90, 100]\n",
    "length=len(my_list)#finding length of the my_list\n",
    "for i in range(0,length):\n",
    "    if(i%2!=0):#finding the i is odd or even\n",
    "        print(my_list[i])#printing the odd numbers in list"
   ]
  },
  {
   "cell_type": "code",
   "execution_count": 21,
   "id": "f6ec2ff3",
   "metadata": {},
   "outputs": [
    {
     "name": "stdout",
     "output_type": "stream",
     "text": [
      "[23, 'Python', 23.98]\n",
      "[<class 'int'>, <class 'str'>, <class 'float'>]\n"
     ]
    }
   ],
   "source": [
    "x = [23, \"Python\", 23.98]\n",
    "print(x)\n",
    "length=len(x)#Finding length of the given list\n",
    "b=[]#Declaring an array\n",
    "for i in range(0,length):\n",
    "    b.append(type(x[i]))#finding type of elements in given list x and adding to b\n",
    "print(b)#printing array b"
   ]
  },
  {
   "cell_type": "code",
   "execution_count": 26,
   "id": "8f9a573f",
   "metadata": {},
   "outputs": [
    {
     "name": "stdout",
     "output_type": "stream",
     "text": [
      "enter the length of the number:8\n",
      "1\n",
      "2\n",
      "3\n",
      "3\n",
      "3\n",
      "3\n",
      "4\n",
      "5\n",
      "unique list is: [1, 2, 3, 4, 5]\n"
     ]
    }
   ],
   "source": [
    "def unique(l1):#Declaration of unique function\n",
    "    x=list(set(l1))#converting input list into set for elimination of duplicate numbers\n",
    "    print(\"unique list is:\",x)\n",
    "l2=[]\n",
    "n=int(input(\"enter the length of the number:\"))\n",
    "for i in range(0,n):\n",
    "    li=int(input())#taking dynamic input from user\n",
    "    l2.append(li)#appending li to l2 array.\n",
    "unique(l2)#calling the function"
   ]
  },
  {
   "cell_type": "code",
   "execution_count": 25,
   "id": "ac2e98c1",
   "metadata": {},
   "outputs": [
    {
     "name": "stdout",
     "output_type": "stream",
     "text": [
      "enter a string:The quick Brow Fox\n",
      "No. of Upper-case characters: 3\n",
      "No. of Lower-case Characters: 12\n"
     ]
    }
   ],
   "source": [
    "str1=input(\"enter a string:\")#Taking the input from the user\n",
    "upp=0\n",
    "low=0\n",
    "for i in str1:\n",
    "    if(i.isupper()):#Finding the letter is uppercase or not\n",
    "        upp=upp+1#if yes incrementing the upp\n",
    "    if(i.islower()):\n",
    "        low=low+1# if no incrementing the low\n",
    "print(\"No. of Upper-case characters:\",upp)\n",
    "print(\"No. of Lower-case Characters:\",low)"
   ]
  },
  {
   "cell_type": "code",
   "execution_count": null,
   "id": "fd1c5514",
   "metadata": {},
   "outputs": [],
   "source": []
  }
 ],
 "metadata": {
  "kernelspec": {
   "display_name": "Python 3 (ipykernel)",
   "language": "python",
   "name": "python3"
  },
  "language_info": {
   "codemirror_mode": {
    "name": "ipython",
    "version": 3
   },
   "file_extension": ".py",
   "mimetype": "text/x-python",
   "name": "python",
   "nbconvert_exporter": "python",
   "pygments_lexer": "ipython3",
   "version": "3.9.13"
  }
 },
 "nbformat": 4,
 "nbformat_minor": 5
}
